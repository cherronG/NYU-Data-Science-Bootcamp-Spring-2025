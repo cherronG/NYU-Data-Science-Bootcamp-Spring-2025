{
 "cells": [
  {
   "cell_type": "markdown",
   "id": "53a0cd06",
   "metadata": {},
   "source": [
    "# **Data Science Bootcamp, Spring 2025**\n",
    "---\n",
    "**Take-Home Assignment #6** \\\n",
    "Cherron Griffith \\\n",
    "Due Date: April 23, 2025\n",
    "\n",
    "---\n",
    "---"
   ]
  },
  {
   "cell_type": "markdown",
   "id": "803aefbc",
   "metadata": {},
   "source": [
    "1. How do you assess the statistical significance of an insight?\n",
    "\n",
    "We can assess if an insight is statistically significant by performing statisical hypothesis testing. With this, we are asking how possible it is for the insight to be true if we assume that the null hypothesis is also true, using the p-value as a basis for our measurement. If the p-value is less than the condidence level (usually 5%), then we reject our null hypothesis.\n",
    "\n",
    "---"
   ]
  },
  {
   "cell_type": "markdown",
   "id": "e132267b",
   "metadata": {},
   "source": [
    "2. What is the Central Limit Theorem? Explain it. Why is it important?\n",
    "\n",
    "The Central Limit Theorem states that the sample means distribute normally as the sample size increases, as long as the sampling is done randomly and independently. This is regardless of how the underlying population is distributed.\n",
    "\n",
    "---"
   ]
  },
  {
   "cell_type": "markdown",
   "id": "536122e1",
   "metadata": {},
   "source": [
    "3. What is the statistical power?\n",
    "\n",
    "Statistical power is the probability/likelihood, usually set to 80%, that a statistical test will correctly identify an effect if there actually is one to detect. This is used to prevent not rejecting the null hypothesis of no effect when it is actually false. The higher the statistical power, the less chance there is to make this error.\n",
    "\n",
    "Source: https://www.scribbr.com/statistics/statistical-power/\n",
    "\n",
    "---"
   ]
  },
  {
   "cell_type": "markdown",
   "id": "f6ba07ea",
   "metadata": {},
   "source": [
    "4. How do you control for biases?\n",
    "\n",
    "You can control for biases by avoiding the reliance on human expertise, especially when looking for evidence in support of an already-formulated conclusion. This is done by using null hypothesis significance testing, which aims to counteract the human tendency to look for convenient evidence to their bias.\n",
    "\n",
    "---"
   ]
  },
  {
   "cell_type": "markdown",
   "id": "9f677b9f",
   "metadata": {},
   "source": [
    "5. What are confounding variables?\n",
    "\n",
    "Confounding variables are outside influences on both the cause and effect in a study's experiment. They are correlated with the independent variable, and are causally related to the dependent variable. These variables must be accounted for in research to avoid bais, as they could influence the actual relationship between the variables that the research is targetting.\n",
    "\n",
    "Source: https://www.scribbr.com/methodology/confounding-variables/\n",
    "\n",
    "---"
   ]
  },
  {
   "cell_type": "markdown",
   "id": "46b6b214",
   "metadata": {},
   "source": [
    "6. What is A/B testing?\n",
    "\n",
    "A/B testing involves comparing two versions of an application/process/software to identify which one performs better. The test compares the alteration of only one variable, and randomly assigns a version to the testing group. Statistical analysis is then performed on the collected results to determine if the alteration was a positive or negative change, or had neutral effects. \n",
    "\n",
    "Source: https://www.optimizely.com/optimization-glossary/ab-testing/\n",
    "\n",
    "---"
   ]
  },
  {
   "cell_type": "markdown",
   "id": "32fc314c",
   "metadata": {},
   "source": [
    "7. What are confidence intervals?\n",
    "\n",
    "Confidence intervals are the means of an estimate, plus and minus the variation of that estimate. They serve as the ranges of values that you expect your data to fall between when your experiment is ran again. They are used to determine the variation around an estimate.\n",
    "\n",
    "Source: https://www.scribbr.com/statistics/confidence-interval/\n",
    "\n",
    "---"
   ]
  }
 ],
 "metadata": {
  "language_info": {
   "name": "python"
  }
 },
 "nbformat": 4,
 "nbformat_minor": 5
}
