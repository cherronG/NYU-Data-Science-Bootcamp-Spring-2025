{
 "cells": [
  {
   "cell_type": "markdown",
   "metadata": {},
   "source": [
    "# **Data Science Bootcamp, Spring 2025**\n",
    "---\n",
    "**Week 1 Practice Questions** \\\n",
    "Cherron Griffith \\\n",
    "Class Date: February 26, 2025\n",
    "\n",
    "---\n",
    "---\n"
   ]
  },
  {
   "cell_type": "markdown",
   "metadata": {},
   "source": [
    "### Additional Challenge: Books Data Challenge"
   ]
  },
  {
   "cell_type": "code",
   "execution_count": 20,
   "metadata": {},
   "outputs": [],
   "source": [
    "books = [\n",
    "    {\n",
    "        \"title\": \"The Great Gatsby\",\n",
    "        \"author\": \"F. Scott Fitzgerald\",\n",
    "        \"genre\": \"Fantasy\",\n",
    "        \"rating\": 4.2\n",
    "    },\n",
    "    {\n",
    "        \"title\": \"To Kill a Mockingbird\",\n",
    "        \"author\": \"Harper Lee\",\n",
    "        \"genre\": \"Classic\",\n",
    "        \"rating\": 4.5\n",
    "    },\n",
    "    {\n",
    "        \"title\": \"1984\",\n",
    "        \"author\": \"George Orwell\",\n",
    "        \"genre\": \"Dystopian\",\n",
    "        \"rating\": 4.8\n",
    "    },\n",
    "    {\n",
    "        \"title\": \"Pride and Prejudice\",\n",
    "        \"author\": \"Jane Austen\",\n",
    "        \"genre\": \"Romance\",\n",
    "        \"rating\": 4.7\n",
    "    },\n",
    "    {\n",
    "        \"title\": \"Harry Potter and the Sorcerer's Stone\",\n",
    "        \"author\": \"J.K. Rowling\",\n",
    "        \"genre\": \"Fantasy\",\n",
    "        \"rating\": 4.9\n",
    "    },\n",
    "    {\n",
    "        \"title\": \"The Catcher in the Rye\",\n",
    "        \"author\": \"J.D. Salinger\",\n",
    "        \"genre\": \"Coming-of-age\",\n",
    "        \"rating\": 4.1\n",
    "    }\n",
    "]"
   ]
  },
  {
   "cell_type": "markdown",
   "metadata": {},
   "source": [
    "1. Checking Book Ratings \\\n",
    "Write a function `check_rating(book)` that takes a book dictionary and returns `True` if the rating if greater than 4.5 and `False` otherwise. \\\n",
    "Additionally, modify the function to return low' if the rating is less than or equal to 4.0, 'medium' if it is greater than 4.0 but less than or equal to 4.5, and 'high' if it is greater than 4.5."
   ]
  },
  {
   "cell_type": "code",
   "execution_count": 14,
   "metadata": {},
   "outputs": [
    {
     "name": "stdout",
     "output_type": "stream",
     "text": [
      "('medium', True)\n"
     ]
    }
   ],
   "source": [
    "def check_rating(book):\n",
    "    rating = book.get('rating')\n",
    "    if rating <= 4.0:\n",
    "        return \"low\", False\n",
    "    elif rating <= 4.5 and rating > 4.0:\n",
    "        if rating == 4.5:\n",
    "            return \"medium\", True\n",
    "        else:\n",
    "            return \"medium\", False\n",
    "    elif rating > 4.5:\n",
    "        return \"high\", False\n",
    "    \n",
    "\n",
    "# test\n",
    "print(check_rating(books[1]))"
   ]
  },
  {
   "cell_type": "markdown",
   "metadata": {},
   "source": [
    "---\n",
    "2. Average Rating by Genre\\\n",
    "Write a function `average_rating_by_genre(books, genre)` that accepts the list of books and genre, and returns the average rating for that genre.\\\n",
    "If the genre does not exist in the list, return an appropriate message.\n"
   ]
  },
  {
   "cell_type": "code",
   "execution_count": 32,
   "metadata": {},
   "outputs": [
    {
     "name": "stdout",
     "output_type": "stream",
     "text": [
      "4.550000000000001\n",
      "4.5\n",
      "Error: Inputted genre does not exist\n"
     ]
    }
   ],
   "source": [
    "def average_rating_by_genre(books, genre):\n",
    "    sum = 0\n",
    "    counter = 0\n",
    "\n",
    "    for dict in books:\n",
    "        for key in dict.keys():\n",
    "            if key == \"genre\" and dict.get('genre') == genre:\n",
    "                rating = dict.get('rating')\n",
    "                sum = sum + rating\n",
    "                counter = counter + 1\n",
    "    if counter == 0:\n",
    "            return \"Error: Inputted genre does not exist\"\n",
    "    return sum/counter\n",
    "\n",
    "# test\n",
    "print(average_rating_by_genre(books, \"Fantasy\"))\n",
    "print(average_rating_by_genre(books, \"Classic\"))\n",
    "print(average_rating_by_genre(books, \"angel\"))\n"
   ]
  },
  {
   "cell_type": "markdown",
   "metadata": {},
   "source": [
    "---\n",
    "3. Books by Author\\\n",
    "Write a function `books_by_author(books, author)` that accepts the books list and an author's name, and returns a list of all the books written by that author.\\ If the author does not exist, raise a custom error."
   ]
  },
  {
   "cell_type": "code",
   "execution_count": 33,
   "metadata": {},
   "outputs": [
    {
     "name": "stdout",
     "output_type": "stream",
     "text": [
      "['1984']\n",
      "Error: Inputted author does not exist\n"
     ]
    }
   ],
   "source": [
    "def books_by_author(books, author):\n",
    "    counter = 0\n",
    "    lst = []\n",
    "\n",
    "    for dict in books:\n",
    "        for key in dict.keys():\n",
    "            if key == \"author\" and dict.get('author') == author:\n",
    "                lst.append(dict.get('title'))\n",
    "                counter = counter + 1\n",
    "\n",
    "    if counter == 0:\n",
    "        return \"Error: Inputted author does not exist\"\n",
    "    return lst\n",
    "\n",
    "\n",
    "# test\n",
    "print(books_by_author(books, \"George Orwell\"))\n",
    "print(books_by_author(books, \"angel\"))"
   ]
  }
 ],
 "metadata": {
  "kernelspec": {
   "display_name": "Python 3",
   "language": "python",
   "name": "python3"
  },
  "language_info": {
   "codemirror_mode": {
    "name": "ipython",
    "version": 3
   },
   "file_extension": ".py",
   "mimetype": "text/x-python",
   "name": "python",
   "nbconvert_exporter": "python",
   "pygments_lexer": "ipython3",
   "version": "3.13.2"
  }
 },
 "nbformat": 4,
 "nbformat_minor": 2
}
